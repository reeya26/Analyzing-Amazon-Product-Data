{
  "nbformat": 4,
  "nbformat_minor": 0,
  "metadata": {
    "colab": {
      "name": "Shortest Path in Graph.ipynb",
      "provenance": []
    },
    "kernelspec": {
      "name": "python3",
      "display_name": "Python 3"
    },
    "language_info": {
      "name": "python"
    }
  },
  "cells": [
    {
      "cell_type": "markdown",
      "source": [
        "# Using the Nodes dataset"
      ],
      "metadata": {
        "id": "0vUoXOX2Leqo"
      }
    },
    {
      "cell_type": "code",
      "execution_count": 26,
      "metadata": {
        "id": "VBNocoaLLUy-"
      },
      "outputs": [],
      "source": [
        "import networkx as nx\n",
        "import matplotlib.pyplot as plt"
      ]
    },
    {
      "cell_type": "code",
      "source": [
        "# Defining a Class\n",
        "class GraphVisualization:\n",
        "   \n",
        "    def __init__(self):\n",
        "          \n",
        "        # visual is a list which stores all \n",
        "        # the set of edges that constitutes a\n",
        "        # graph\n",
        "        self.visual = []\n",
        "          \n",
        "    # addEdge function inputs the vertices of an\n",
        "    # edge and appends it to the visual list\n",
        "    def addEdge(self, a, b):\n",
        "        temp = [a, b]\n",
        "        self.visual.append(temp)\n",
        "    def visualize(self):\n",
        "            G = nx.Graph()\n",
        "            G.add_edges_from(self.visual)\n",
        "            nx.draw_networkx(G)\n",
        "            plt.show()\n"
      ],
      "metadata": {
        "id": "yUjiZeAALl91"
      },
      "execution_count": 27,
      "outputs": []
    },
    {
      "cell_type": "markdown",
      "source": [
        "# Plotting the Nodes data"
      ],
      "metadata": {
        "id": "yb9KEhuXPQ8s"
      }
    },
    {
      "cell_type": "code",
      "source": [
        "lines = []\n",
        "with open('amazon_node_subset.txt') as f:\n",
        "    lines = f.readlines()\n",
        "\n",
        "\n",
        "new_lines = [s.replace(\"\\n\", \"\") for s in lines]"
      ],
      "metadata": {
        "id": "9wGot-ypLroi"
      },
      "execution_count": 28,
      "outputs": []
    },
    {
      "cell_type": "code",
      "source": [
        "start, end  =[],[]\n",
        "edges = []\n",
        "for l in new_lines:\n",
        "\n",
        "\n",
        "  first,second = l.split(\"\\t\")\n",
        "  start.append(first)\n",
        "  end.append(second)\n",
        "  \n",
        "  edge = []\n",
        "  edge.append(first)\n",
        "  edge.append(second)\n",
        "\n",
        "  edges.append(edge)"
      ],
      "metadata": {
        "id": "PrhjcgtCMIWk"
      },
      "execution_count": 29,
      "outputs": []
    },
    {
      "cell_type": "code",
      "source": [
        "G1 = GraphVisualization()\n",
        "\n",
        "for i in range(len(start)):\n",
        "\n",
        "  G1.addEdge(start[i], end[i])\n",
        "\n",
        "G1.visualize()"
      ],
      "metadata": {
        "colab": {
          "base_uri": "https://localhost:8080/",
          "height": 248
        },
        "id": "Vt-S3LG1Pol6",
        "outputId": "09e4892d-a722-4e0c-bdb2-4fa55b6a3a1a"
      },
      "execution_count": 30,
      "outputs": [
        {
          "output_type": "display_data",
          "data": {
            "text/plain": [
              "<Figure size 432x288 with 1 Axes>"
            ],
            "image/png": "[encoded data removed]"
          },
          "metadata": {}
        }
      ]
    },
    {
      "cell_type": "code",
      "source": [
        "edges"
      ],
      "metadata": {
        "colab": {
          "base_uri": "https://localhost:8080/"
        },
        "id": "9dPPfEyIM93U",
        "outputId": "d4837163-cfed-4848-f873-d18270df4ac8"
      },
      "execution_count": 31,
      "outputs": [
        {
          "output_type": "execute_result",
          "data": {
            "text/plain": [
              "[['0', '1'],\n",
              " ['0', '2'],\n",
              " ['0', '3'],\n",
              " ['0', '4'],\n",
              " ['0', '5'],\n",
              " ['1', '0'],\n",
              " ['1', '2'],\n",
              " ['1', '4'],\n",
              " ['1', '5'],\n",
              " ['4', '7'],\n",
              " ['5', '6'],\n",
              " ['5', '7'],\n",
              " ['5', '8'],\n",
              " ['5', '9'],\n",
              " ['5', '10'],\n",
              " ['6', '5'],\n",
              " ['6', '7'],\n",
              " ['6', '8'],\n",
              " ['6', '9'],\n",
              " ['7', '5'],\n",
              " ['7', '8'],\n",
              " ['7', '9'],\n",
              " ['10', '5'],\n",
              " ['10', '7']]"
            ]
          },
          "metadata": {},
          "execution_count": 31
        }
      ]
    },
    {
      "cell_type": "code",
      "source": [
        "from collections import defaultdict\n",
        "from collections import OrderedDict\n",
        "\n",
        "# Function to build the graph\n",
        "\n",
        "graph = defaultdict(list)\n",
        "\n",
        "\n",
        "def build_graph():\n",
        "\n",
        "\n",
        "    # Using the Edge defined above\n",
        "\n",
        "#    graph = defaultdict(list)\n",
        "     \n",
        "    # Loop to iterate over every\n",
        "    # edge of the graph\n",
        "    for edge in edges:\n",
        "        a, b = edge[0], edge[1]\n",
        "         \n",
        "        # Creating the graph\n",
        "        # as adjacency list\n",
        "        graph[a].append(b)\n",
        "        graph[b].append(a)\n",
        "\n",
        "    return graph\n",
        " \n",
        "if __name__ == \"__main__\":\n",
        "    graph = build_graph()\n",
        "     \n",
        "    print(graph)"
      ],
      "metadata": {
        "colab": {
          "base_uri": "https://localhost:8080/"
        },
        "id": "SfzGTac6NCHi",
        "outputId": "b48f2815-42a3-47b3-87c7-00e934471732"
      },
      "execution_count": 32,
      "outputs": [
        {
          "output_type": "stream",
          "name": "stdout",
          "text": [
            "defaultdict(<class 'list'>, {'0': ['1', '2', '3', '4', '5', '1'], '1': ['0', '0', '2', '4', '5'], '2': ['0', '1'], '3': ['0'], '4': ['0', '1', '7'], '5': ['0', '1', '6', '7', '8', '9', '10', '6', '7', '10'], '7': ['4', '5', '6', '5', '8', '9', '10'], '6': ['5', '5', '7', '8', '9'], '8': ['5', '6', '7'], '9': ['5', '6', '7'], '10': ['5', '5', '7']})\n"
          ]
        }
      ]
    },
    {
      "cell_type": "markdown",
      "source": [
        "## Shortest Path between two nodes of graph"
      ],
      "metadata": {
        "id": "KIOfU0AVOnru"
      }
    },
    {
      "cell_type": "code",
      "source": [
        "# Python implementation to find the\n",
        "# shortest path in the graph using\n",
        "# dictionaries\n",
        " \n",
        "# Function to find the shortest\n",
        "# path between two nodes of a graph\n",
        "def BFS_SP(graph, start, goal):\n",
        "    explored = []\n",
        "     \n",
        "    # Queue for traversing the\n",
        "    # graph in the BFS\n",
        "    queue = [[start]]\n",
        "     \n",
        "    # If the desired node is\n",
        "    # reached\n",
        "    if start == goal:\n",
        "        print(\"Same Node\")\n",
        "        return\n",
        "     \n",
        "    # Loop to traverse the graph\n",
        "    # with the help of the queue\n",
        "    while queue:\n",
        "        path = queue.pop(0)\n",
        "        node = path[-1]\n",
        "         \n",
        "        # Condition to check if the\n",
        "        # current node is not visited\n",
        "        if node not in explored:\n",
        "            neighbours = graph[node]\n",
        "             \n",
        "            # Loop to iterate over the\n",
        "            # neighbours of the node\n",
        "            for neighbour in neighbours:\n",
        "                new_path = list(path)\n",
        "                new_path.append(neighbour)\n",
        "                queue.append(new_path)\n",
        "                 \n",
        "                # Condition to check if the\n",
        "                # neighbour node is the goal\n",
        "                if neighbour == goal:\n",
        "                    print(\"Shortest path = \", *new_path)\n",
        "                    return\n",
        "            explored.append(node)\n",
        " \n",
        "    # Condition when the nodes\n",
        "    # are not connected\n",
        "    print(\"So sorry, but a connecting\"\\\n",
        "                \"path doesn't exist :(\")\n",
        "    return\n",
        " \n",
        "# Driver Code\n",
        "if __name__ == \"__main__\":\n",
        "     \n",
        "    # Graph using dictionaries\n",
        "\n",
        "    # Function Call\n",
        "    BFS_SP(graph, '10', '2')"
      ],
      "metadata": {
        "colab": {
          "base_uri": "https://localhost:8080/"
        },
        "id": "f5oZL1NYOkEA",
        "outputId": "b69e4107-d643-460e-c09f-5f6d652ac3e0"
      },
      "execution_count": 33,
      "outputs": [
        {
          "output_type": "stream",
          "name": "stdout",
          "text": [
            "Shortest path =  10 5 0 2\n"
          ]
        }
      ]
    }
  ]
}